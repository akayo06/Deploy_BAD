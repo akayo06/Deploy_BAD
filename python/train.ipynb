{
 "cells": [
  {
   "cell_type": "code",
   "execution_count": 1,
   "metadata": {},
   "outputs": [
    {
     "name": "stdout",
     "output_type": "stream",
     "text": [
      "Collecting ultralytics\n",
      "  Using cached ultralytics-8.0.92-py3-none-any.whl (562 kB)\n",
      "Collecting matplotlib>=3.2.2\n",
      "  Using cached matplotlib-3.7.1-cp39-cp39-win_amd64.whl (7.6 MB)\n",
      "Collecting PyYAML>=5.3.1\n",
      "  Using cached PyYAML-6.0-cp39-cp39-win_amd64.whl (151 kB)\n",
      "Collecting torchvision>=0.8.1\n",
      "  Using cached torchvision-0.15.1-cp39-cp39-win_amd64.whl (1.2 MB)\n",
      "Collecting torch>=1.7.0\n",
      "  Using cached torch-2.0.0-cp39-cp39-win_amd64.whl (172.3 MB)\n",
      "Requirement already satisfied: psutil in c:\\users\\pty10\\appdata\\roaming\\python\\python39\\site-packages (from ultralytics) (5.9.5)\n",
      "Collecting sentry-sdk\n",
      "  Using cached sentry_sdk-1.21.1-py2.py3-none-any.whl (201 kB)\n",
      "Collecting opencv-python>=4.6.0\n",
      "  Using cached opencv_python-4.7.0.72-cp37-abi3-win_amd64.whl (38.2 MB)\n",
      "Collecting Pillow>=7.1.2\n",
      "  Using cached Pillow-9.5.0-cp39-cp39-win_amd64.whl (2.5 MB)\n",
      "Collecting scipy>=1.4.1\n",
      "  Using cached scipy-1.10.1-cp39-cp39-win_amd64.whl (42.5 MB)\n",
      "Collecting pandas>=1.1.4\n",
      "  Using cached pandas-2.0.1-cp39-cp39-win_amd64.whl (10.7 MB)\n",
      "Collecting requests>=2.23.0\n",
      "  Downloading requests-2.30.0-py3-none-any.whl (62 kB)\n",
      "     ---------------------------------------- 62.5/62.5 KB 3.5 MB/s eta 0:00:00\n",
      "Collecting seaborn>=0.11.0\n",
      "  Using cached seaborn-0.12.2-py3-none-any.whl (293 kB)\n",
      "Collecting tqdm>=4.64.0\n",
      "  Using cached tqdm-4.65.0-py3-none-any.whl (77 kB)\n",
      "Collecting thop>=0.1.1\n",
      "  Using cached thop-0.1.1.post2209072238-py3-none-any.whl (15 kB)\n",
      "Collecting fonttools>=4.22.0\n",
      "  Using cached fonttools-4.39.3-py3-none-any.whl (1.0 MB)\n",
      "Requirement already satisfied: python-dateutil>=2.7 in c:\\users\\pty10\\appdata\\roaming\\python\\python39\\site-packages (from matplotlib>=3.2.2->ultralytics) (2.8.2)\n",
      "Collecting cycler>=0.10\n",
      "  Using cached cycler-0.11.0-py3-none-any.whl (6.4 kB)\n",
      "Requirement already satisfied: packaging>=20.0 in c:\\users\\pty10\\appdata\\roaming\\python\\python39\\site-packages (from matplotlib>=3.2.2->ultralytics) (23.1)\n",
      "Collecting numpy>=1.20\n",
      "  Using cached numpy-1.24.3-cp39-cp39-win_amd64.whl (14.9 MB)\n",
      "Collecting contourpy>=1.0.1\n",
      "  Using cached contourpy-1.0.7-cp39-cp39-win_amd64.whl (160 kB)\n",
      "Collecting importlib-resources>=3.2.0\n",
      "  Using cached importlib_resources-5.12.0-py3-none-any.whl (36 kB)\n",
      "Collecting kiwisolver>=1.0.1\n",
      "  Using cached kiwisolver-1.4.4-cp39-cp39-win_amd64.whl (55 kB)\n",
      "Collecting pyparsing>=2.3.1\n",
      "  Using cached pyparsing-3.0.9-py3-none-any.whl (98 kB)\n",
      "Collecting tzdata>=2022.1\n",
      "  Using cached tzdata-2023.3-py2.py3-none-any.whl (341 kB)\n",
      "Collecting pytz>=2020.1\n",
      "  Using cached pytz-2023.3-py2.py3-none-any.whl (502 kB)\n",
      "Collecting charset-normalizer<4,>=2\n",
      "  Using cached charset_normalizer-3.1.0-cp39-cp39-win_amd64.whl (97 kB)\n",
      "Collecting certifi>=2017.4.17\n",
      "  Using cached certifi-2022.12.7-py3-none-any.whl (155 kB)\n",
      "Collecting idna<4,>=2.5\n",
      "  Using cached idna-3.4-py3-none-any.whl (61 kB)\n",
      "Collecting urllib3<3,>=1.21.1\n",
      "  Downloading urllib3-2.0.2-py3-none-any.whl (123 kB)\n",
      "     -------------------------------------- 123.2/123.2 KB 7.1 MB/s eta 0:00:00\n",
      "Collecting jinja2\n",
      "  Using cached Jinja2-3.1.2-py3-none-any.whl (133 kB)\n",
      "Collecting sympy\n",
      "  Using cached sympy-1.11.1-py3-none-any.whl (6.5 MB)\n",
      "Collecting networkx\n",
      "  Using cached networkx-3.1-py3-none-any.whl (2.1 MB)\n",
      "Requirement already satisfied: typing-extensions in c:\\users\\pty10\\appdata\\roaming\\python\\python39\\site-packages (from torch>=1.7.0->ultralytics) (4.5.0)\n",
      "Collecting filelock\n",
      "  Using cached filelock-3.12.0-py3-none-any.whl (10 kB)\n",
      "Requirement already satisfied: colorama in c:\\users\\pty10\\appdata\\roaming\\python\\python39\\site-packages (from tqdm>=4.64.0->ultralytics) (0.4.6)\n",
      "Requirement already satisfied: zipp>=3.1.0 in c:\\users\\pty10\\appdata\\roaming\\python\\python39\\site-packages (from importlib-resources>=3.2.0->matplotlib>=3.2.2->ultralytics) (3.15.0)\n",
      "Requirement already satisfied: six>=1.5 in c:\\users\\pty10\\appdata\\roaming\\python\\python39\\site-packages (from python-dateutil>=2.7->matplotlib>=3.2.2->ultralytics) (1.16.0)\n",
      "Collecting MarkupSafe>=2.0\n",
      "  Using cached MarkupSafe-2.1.2-cp39-cp39-win_amd64.whl (16 kB)\n",
      "Collecting mpmath>=0.19\n",
      "  Using cached mpmath-1.3.0-py3-none-any.whl (536 kB)\n",
      "Installing collected packages: pytz, mpmath, urllib3, tzdata, tqdm, sympy, PyYAML, pyparsing, Pillow, numpy, networkx, MarkupSafe, kiwisolver, importlib-resources, idna, fonttools, filelock, cycler, charset-normalizer, certifi, sentry-sdk, scipy, requests, pandas, opencv-python, jinja2, contourpy, torch, matplotlib, torchvision, thop, seaborn, ultralytics\n",
      "Successfully installed MarkupSafe-2.1.2 Pillow-9.5.0 PyYAML-6.0 certifi-2022.12.7 charset-normalizer-3.1.0 contourpy-1.0.7 cycler-0.11.0 filelock-3.12.0 fonttools-4.39.3 idna-3.4 importlib-resources-5.12.0 jinja2-3.1.2 kiwisolver-1.4.4 matplotlib-3.7.1 mpmath-1.3.0 networkx-3.1 numpy-1.24.3 opencv-python-4.7.0.72 pandas-2.0.1 pyparsing-3.0.9 pytz-2023.3 requests-2.30.0 scipy-1.10.1 seaborn-0.12.2 sentry-sdk-1.21.1 sympy-1.11.1 thop-0.1.1.post2209072238 torch-2.0.0 torchvision-0.15.1 tqdm-4.65.0 tzdata-2023.3 ultralytics-8.0.92 urllib3-2.0.2\n"
     ]
    },
    {
     "name": "stderr",
     "output_type": "stream",
     "text": [
      "WARNING: You are using pip version 22.0.4; however, version 23.1.2 is available.\n",
      "You should consider upgrading via the 'C:\\Users\\pty10\\AppData\\Local\\Programs\\Python\\Python39\\python.exe -m pip install --upgrade pip' command.\n"
     ]
    }
   ],
   "source": [
    "!pip install ultralytics"
   ]
  },
  {
   "cell_type": "code",
   "execution_count": 2,
   "metadata": {},
   "outputs": [
    {
     "name": "stderr",
     "output_type": "stream",
     "text": [
      "WARNING: You are using pip version 22.0.4; however, version 23.1.2 is available.\n",
      "You should consider upgrading via the 'C:\\Users\\pty10\\AppData\\Local\\Programs\\Python\\Python39\\python.exe -m pip install --upgrade pip' command.\n"
     ]
    },
    {
     "name": "stdout",
     "output_type": "stream",
     "text": [
      "Collecting roboflow\n",
      "  Using cached roboflow-1.0.8-py3-none-any.whl (56 kB)\n",
      "Collecting chardet==4.0.0\n",
      "  Using cached chardet-4.0.0-py2.py3-none-any.whl (178 kB)\n",
      "Collecting requests-toolbelt\n",
      "  Using cached requests_toolbelt-1.0.0-py2.py3-none-any.whl (54 kB)\n",
      "Requirement already satisfied: matplotlib in c:\\users\\pty10\\appdata\\local\\programs\\python\\python39\\lib\\site-packages (from roboflow) (3.7.1)\n",
      "Requirement already satisfied: six in c:\\users\\pty10\\appdata\\roaming\\python\\python39\\site-packages (from roboflow) (1.16.0)\n",
      "Requirement already satisfied: numpy>=1.18.5 in c:\\users\\pty10\\appdata\\local\\programs\\python\\python39\\lib\\site-packages (from roboflow) (1.24.3)\n",
      "Collecting wget\n",
      "  Using cached wget-3.2-py3-none-any.whl\n",
      "Requirement already satisfied: python-dateutil in c:\\users\\pty10\\appdata\\roaming\\python\\python39\\site-packages (from roboflow) (2.8.2)\n",
      "Requirement already satisfied: kiwisolver>=1.3.1 in c:\\users\\pty10\\appdata\\local\\programs\\python\\python39\\lib\\site-packages (from roboflow) (1.4.4)\n",
      "Requirement already satisfied: PyYAML>=5.3.1 in c:\\users\\pty10\\appdata\\local\\programs\\python\\python39\\lib\\site-packages (from roboflow) (6.0)\n",
      "Requirement already satisfied: certifi==2022.12.7 in c:\\users\\pty10\\appdata\\local\\programs\\python\\python39\\lib\\site-packages (from roboflow) (2022.12.7)\n",
      "Requirement already satisfied: opencv-python>=4.1.2 in c:\\users\\pty10\\appdata\\local\\programs\\python\\python39\\lib\\site-packages (from roboflow) (4.7.0.72)\n",
      "Requirement already satisfied: urllib3>=1.26.6 in c:\\users\\pty10\\appdata\\local\\programs\\python\\python39\\lib\\site-packages (from roboflow) (2.0.2)\n",
      "Collecting idna==2.10\n",
      "  Using cached idna-2.10-py2.py3-none-any.whl (58 kB)\n",
      "Requirement already satisfied: Pillow>=7.1.2 in c:\\users\\pty10\\appdata\\local\\programs\\python\\python39\\lib\\site-packages (from roboflow) (9.5.0)\n",
      "Collecting pyparsing==2.4.7\n",
      "  Using cached pyparsing-2.4.7-py2.py3-none-any.whl (67 kB)\n",
      "Collecting python-dotenv\n",
      "  Using cached python_dotenv-1.0.0-py3-none-any.whl (19 kB)\n",
      "Requirement already satisfied: tqdm>=4.41.0 in c:\\users\\pty10\\appdata\\local\\programs\\python\\python39\\lib\\site-packages (from roboflow) (4.65.0)\n",
      "Requirement already satisfied: requests in c:\\users\\pty10\\appdata\\local\\programs\\python\\python39\\lib\\site-packages (from roboflow) (2.30.0)\n",
      "Collecting cycler==0.10.0\n",
      "  Using cached cycler-0.10.0-py2.py3-none-any.whl (6.5 kB)\n",
      "Requirement already satisfied: colorama in c:\\users\\pty10\\appdata\\roaming\\python\\python39\\site-packages (from tqdm>=4.41.0->roboflow) (0.4.6)\n",
      "Requirement already satisfied: contourpy>=1.0.1 in c:\\users\\pty10\\appdata\\local\\programs\\python\\python39\\lib\\site-packages (from matplotlib->roboflow) (1.0.7)\n",
      "Requirement already satisfied: packaging>=20.0 in c:\\users\\pty10\\appdata\\roaming\\python\\python39\\site-packages (from matplotlib->roboflow) (23.1)\n",
      "Requirement already satisfied: fonttools>=4.22.0 in c:\\users\\pty10\\appdata\\local\\programs\\python\\python39\\lib\\site-packages (from matplotlib->roboflow) (4.39.3)\n",
      "Requirement already satisfied: importlib-resources>=3.2.0 in c:\\users\\pty10\\appdata\\local\\programs\\python\\python39\\lib\\site-packages (from matplotlib->roboflow) (5.12.0)\n",
      "Requirement already satisfied: charset-normalizer<4,>=2 in c:\\users\\pty10\\appdata\\local\\programs\\python\\python39\\lib\\site-packages (from requests->roboflow) (3.1.0)\n",
      "Requirement already satisfied: zipp>=3.1.0 in c:\\users\\pty10\\appdata\\roaming\\python\\python39\\site-packages (from importlib-resources>=3.2.0->matplotlib->roboflow) (3.15.0)\n",
      "Installing collected packages: wget, python-dotenv, pyparsing, idna, cycler, chardet, requests-toolbelt, roboflow\n",
      "  Attempting uninstall: pyparsing\n",
      "    Found existing installation: pyparsing 3.0.9\n",
      "    Uninstalling pyparsing-3.0.9:\n",
      "      Successfully uninstalled pyparsing-3.0.9\n",
      "  Attempting uninstall: idna\n",
      "    Found existing installation: idna 3.4\n",
      "    Uninstalling idna-3.4:\n",
      "      Successfully uninstalled idna-3.4\n",
      "  Attempting uninstall: cycler\n",
      "    Found existing installation: cycler 0.11.0\n",
      "    Uninstalling cycler-0.11.0:\n",
      "      Successfully uninstalled cycler-0.11.0\n",
      "Successfully installed chardet-4.0.0 cycler-0.10.0 idna-2.10 pyparsing-2.4.7 python-dotenv-1.0.0 requests-toolbelt-1.0.0 roboflow-1.0.8 wget-3.2\n",
      "loading Roboflow workspace...\n",
      "loading Roboflow project...\n",
      "Dependency ultralytics<=8.0.20 is required but found version=8.0.92, to fix: `pip install ultralytics<=8.0.20`\n",
      "Downloading Dataset Version Zip in McDonalds-4 to yolov8: 100% [83167227 / 83167227] bytes\n"
     ]
    },
    {
     "name": "stderr",
     "output_type": "stream",
     "text": [
      "Extracting Dataset Version Zip to McDonalds-4 in yolov8:: 100%|██████████| 3512/3512 [00:01<00:00, 1820.98it/s]\n"
     ]
    }
   ],
   "source": [
    "!pip install roboflow\n",
    "\n",
    "from roboflow import Roboflow\n",
    "rf = Roboflow(api_key=\"RBW9LLgK5WijHFtAjjcU\")\n",
    "project = rf.workspace(\"clifford-lee-hpmx7\").project(\"mcdonalds-x7oyz\")\n",
    "dataset = project.version(4).download(\"yolov8\")"
   ]
  },
  {
   "cell_type": "code",
   "execution_count": 3,
   "metadata": {},
   "outputs": [
    {
     "name": "stdout",
     "output_type": "stream",
     "text": [
      "^C\n"
     ]
    }
   ],
   "source": [
    "!yolo task=detect \\\n",
    "mode=train \\\n",
    "model=yolov8s.pt \\\n",
    "data={dataset.location}/data.yaml \\\n",
    "epochs=25 \\\n",
    "imgsz=640"
   ]
  },
  {
   "cell_type": "code",
   "execution_count": null,
   "metadata": {},
   "outputs": [],
   "source": [
    "!yolo task=detect \\\n",
    "mode=val \\\n",
    "model=runs/detect/train/weights/best.pt \\\n",
    "data={dataset.location}/data.yaml"
   ]
  },
  {
   "cell_type": "code",
   "execution_count": 5,
   "metadata": {},
   "outputs": [
    {
     "name": "stderr",
     "output_type": "stream",
     "text": [
      "Ultralytics YOLOv8.0.94  Python-3.9.13 torch-2.0.0+cpu CPU\n",
      "Model summary (fused): 168 layers, 3009743 parameters, 0 gradients, 8.1 GFLOPs\n",
      "\n",
      "image 1/1 D:\\Coding\\Project\\BAD-Project\\BAD-Project\\python\\test.jpg: 480x640 1 Fries, 140.2ms\n",
      "Speed: 7.0ms preprocess, 140.2ms inference, 12.1ms postprocess per image at shape (1, 3, 640, 640)\n",
      "Results saved to \u001b[1mD:\\Coding\\Project\\BAD-Project\\runs\\detect\\predict3\u001b[0m\n"
     ]
    }
   ],
   "source": [
    "!yolo task=detect \\\n",
    "mode=predict \\\n",
    "model=best.pt \\\n",
    "conf=0.25 \\\n",
    "source=test.jpg"
   ]
  }
 ],
 "metadata": {
  "kernelspec": {
   "display_name": "Python 3",
   "language": "python",
   "name": "python3"
  },
  "language_info": {
   "codemirror_mode": {
    "name": "ipython",
    "version": 3
   },
   "file_extension": ".py",
   "mimetype": "text/x-python",
   "name": "python",
   "nbconvert_exporter": "python",
   "pygments_lexer": "ipython3",
   "version": "3.9.13"
  },
  "orig_nbformat": 4
 },
 "nbformat": 4,
 "nbformat_minor": 2
}
